{
  "nbformat": 4,
  "nbformat_minor": 0,
  "metadata": {
    "colab": {
      "provenance": [],
      "authorship_tag": "ABX9TyMs6h6jvzSg5c8EkJkAWU8E",
      "include_colab_link": true
    },
    "kernelspec": {
      "name": "python3",
      "display_name": "Python 3"
    },
    "language_info": {
      "name": "python"
    }
  },
  "cells": [
    {
      "cell_type": "markdown",
      "metadata": {
        "id": "view-in-github",
        "colab_type": "text"
      },
      "source": [
        "<a href=\"https://colab.research.google.com/github/Hylass/TKU-AI-412571514/blob/main/Untitled11.ipynb\" target=\"_parent\"><img src=\"https://colab.research.google.com/assets/colab-badge.svg\" alt=\"Open In Colab\"/></a>"
      ]
    },
    {
      "cell_type": "code",
      "execution_count": 8,
      "metadata": {
        "id": "PS5DYSqrfAD5",
        "colab": {
          "base_uri": "https://localhost:8080/"
        },
        "outputId": "3b5b7342-a733-4e54-bcc9-b2e4f81e65e4"
      },
      "outputs": [
        {
          "output_type": "stream",
          "name": "stdout",
          "text": [
            "請輸入體溫：37\n",
            "體溫略高！\n"
          ]
        }
      ],
      "source": [
        "score = int(input(\"請輸入體溫：\"))\n",
        "if score >= 37.5:\n",
        "    print(\"體溫過高！\")\n",
        "elif 37 <= score <= 37.4:\n",
        "    print(\"體溫略高！\")\n",
        "elif 34 <= score <= 36.9:\n",
        "    print(\"體溫正常！\")\n",
        "elif score < 34:\n",
        "    print(\"體溫異常！\")"
      ]
    },
    {
      "cell_type": "code",
      "source": [
        "score = int(input(\"請輸入成績：\"))\n",
        "if score >= 90:\n",
        "    print(\"A\")\n",
        "elif 80 < score < 89:\n",
        "    print(\"B\")\n",
        "elif 70 < score < 79:\n",
        "    print(\"C\")\n",
        "elif 60 < score < 69:\n",
        "    print(\"D\")\n",
        "elif score < 60:\n",
        "    print(\"E\")"
      ],
      "metadata": {
        "id": "wVYpBKqLfIIz",
        "colab": {
          "base_uri": "https://localhost:8080/"
        },
        "outputId": "e7e9cb26-595f-4bdd-b059-2938d1a864fc"
      },
      "execution_count": 3,
      "outputs": [
        {
          "output_type": "stream",
          "name": "stdout",
          "text": [
            "請輸入成績：67\n",
            "D\n"
          ]
        }
      ]
    },
    {
      "cell_type": "code",
      "source": [
        "score = int(input(\"請輸入月份：\"))\n",
        "if score == 3 or score == 4 or score == 5:\n",
        "    print(score, \"月是春天！\")\n",
        "elif score == 6 or score == 7 or score == 8:\n",
        "    print(score, \"月是夏天！\")\n",
        "elif score == 9 or score == 10 or score == 11:\n",
        "    print(score, \"月是秋天！\")\n",
        "elif score == 12 or score == 1 or score == 2:\n",
        "    print(score, \"月是冬天！\")\n",
        "else :\n",
        "    print(\"月份不再範圍內！\")"
      ],
      "metadata": {
        "id": "Wrb1AOJafIK7",
        "colab": {
          "base_uri": "https://localhost:8080/"
        },
        "outputId": "788fd40a-52d6-4c84-b399-772a6b2c9b18"
      },
      "execution_count": 20,
      "outputs": [
        {
          "output_type": "stream",
          "name": "stdout",
          "text": [
            "請輸入月份：12\n",
            "12 月是冬天！\n"
          ]
        }
      ]
    }
  ]
}