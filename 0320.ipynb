{
  "nbformat": 4,
  "nbformat_minor": 0,
  "metadata": {
    "colab": {
      "provenance": [],
      "authorship_tag": "ABX9TyNN7RQALvIL6cafEaucuASR",
      "include_colab_link": true
    },
    "kernelspec": {
      "name": "python3",
      "display_name": "Python 3"
    },
    "language_info": {
      "name": "python"
    }
  },
  "cells": [
    {
      "cell_type": "markdown",
      "metadata": {
        "id": "view-in-github",
        "colab_type": "text"
      },
      "source": [
        "<a href=\"https://colab.research.google.com/github/Hylass/TKU-AI-412571514/blob/main/0320.ipynb\" target=\"_parent\"><img src=\"https://colab.research.google.com/assets/colab-badge.svg\" alt=\"Open In Colab\"/></a>"
      ]
    },
    {
      "cell_type": "code",
      "execution_count": 1,
      "metadata": {
        "colab": {
          "base_uri": "https://localhost:8080/"
        },
        "id": "NXMV7TV08J-i",
        "outputId": "54aeb8bc-1a06-463f-d2d8-c9c76504dc0f"
      },
      "outputs": [
        {
          "output_type": "stream",
          "name": "stdout",
          "text": [
            "請輸入國文成績50\n",
            "請輸入英文成績60\n",
            "請輸入數學成績70\n",
            "180\n"
          ]
        }
      ],
      "source": [
        "國文=int(input('請輸入國文成績'))\n",
        "英文=int(input('請輸入英文成績'))\n",
        "數學=int(input('請輸入數學成績'))\n",
        "print(國文+英文+數學)"
      ]
    },
    {
      "cell_type": "code",
      "source": [
        "上底=float(input(\"請輸入梯形上底長度:\"))\n",
        "下底=float(input(\"請輸入梯形下底長度:\"))\n",
        "高度=float(input(\"請輸入梯形高度:\"))\n",
        "梯形面積=(上底+下底)*高度/2\n",
        "print(\"上底長度為:\"+str(上底)+\"下底長度為:\"+str(下底)+\"高度為:\"+str(高度)+\"梯形面積為:\"+str(梯形面積)\n",
        ")"
      ],
      "metadata": {
        "colab": {
          "base_uri": "https://localhost:8080/"
        },
        "id": "7O3O1GoN8Tul",
        "outputId": "5f6d292d-f312-44d0-fae8-46473e40a0b7"
      },
      "execution_count": 2,
      "outputs": [
        {
          "output_type": "stream",
          "name": "stdout",
          "text": [
            "請輸入梯形上底長度:3\n",
            "請輸入梯形下底長度:4\n",
            "請輸入梯形高度:3\n",
            "上底長度為:3.0下底長度為:4.0高度為:3.0梯形面積為:10.5\n"
          ]
        }
      ]
    },
    {
      "cell_type": "code",
      "source": [
        "身高=float(input(\"請輸入你的身高(cm)\"))\n",
        "體重=float(input(\"請輸入你的體重(kg)\"))\n",
        "BMI=體重/(身高/100)**2\n",
        "print(\"身高\"+str(身高)+\"公分\"+\"體重\"+str(體重)+\"公斤\"+\"BMI值為\"+str(BMI))"
      ],
      "metadata": {
        "colab": {
          "base_uri": "https://localhost:8080/"
        },
        "id": "oR4BJO7-8Twx",
        "outputId": "2daef7e7-1296-4e71-8537-64a3d22386cc"
      },
      "execution_count": 3,
      "outputs": [
        {
          "output_type": "stream",
          "name": "stdout",
          "text": [
            "請輸入你的身高(cm)180\n",
            "請輸入你的體重(kg)80\n",
            "身高180.0公分體重80.0公斤BMI值為24.691358024691358\n"
          ]
        }
      ]
    }
  ]
}